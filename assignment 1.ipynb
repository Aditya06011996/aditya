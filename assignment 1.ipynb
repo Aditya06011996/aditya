{
 "cells": [
  {
   "cell_type": "code",
   "execution_count": 1,
   "id": "30d34bf7-91b8-449f-a1d5-97a7de80d5c7",
   "metadata": {},
   "outputs": [],
   "source": [
    "a = \"aditya\""
   ]
  },
  {
   "cell_type": "code",
   "execution_count": 2,
   "id": "86edfc54-a960-416f-bf0a-afc9c8df2b14",
   "metadata": {},
   "outputs": [
    {
     "data": {
      "text/plain": [
       "str"
      ]
     },
     "execution_count": 2,
     "metadata": {},
     "output_type": "execute_result"
    }
   ],
   "source": [
    "type(a)"
   ]
  },
  {
   "cell_type": "code",
   "execution_count": 3,
   "id": "b604291a-70cb-4a86-88f3-af1aafc0fe73",
   "metadata": {},
   "outputs": [],
   "source": [
    "b = [ 1,2,3,4,5, \"aditya\" , 78.98, True]"
   ]
  },
  {
   "cell_type": "code",
   "execution_count": 4,
   "id": "95d5ed09-ee8a-4813-9380-242c7db70b48",
   "metadata": {},
   "outputs": [
    {
     "data": {
      "text/plain": [
       "list"
      ]
     },
     "execution_count": 4,
     "metadata": {},
     "output_type": "execute_result"
    }
   ],
   "source": [
    "type(b)"
   ]
  },
  {
   "cell_type": "code",
   "execution_count": 5,
   "id": "06b439ee-470f-4278-b470-eec4cbc5b5ef",
   "metadata": {},
   "outputs": [],
   "source": [
    "c = 67.98"
   ]
  },
  {
   "cell_type": "code",
   "execution_count": 6,
   "id": "d3474962-d41e-4ad1-a4fe-db620aa771fb",
   "metadata": {},
   "outputs": [
    {
     "data": {
      "text/plain": [
       "float"
      ]
     },
     "execution_count": 6,
     "metadata": {},
     "output_type": "execute_result"
    }
   ],
   "source": [
    "type(c)"
   ]
  },
  {
   "cell_type": "code",
   "execution_count": 7,
   "id": "267b077a-f3e9-4537-8111-b17365967c65",
   "metadata": {},
   "outputs": [],
   "source": [
    "d = ( 1,2,3,4,5, \"aditya\" , 45.76 )"
   ]
  },
  {
   "cell_type": "code",
   "execution_count": 8,
   "id": "2a24e428-10d0-4e5c-8e7f-2d141d7b6410",
   "metadata": {},
   "outputs": [
    {
     "data": {
      "text/plain": [
       "tuple"
      ]
     },
     "execution_count": 8,
     "metadata": {},
     "output_type": "execute_result"
    }
   ],
   "source": [
    "type(d)"
   ]
  },
  {
   "cell_type": "code",
   "execution_count": 9,
   "id": "136aee0d-f6ff-43ee-b8fe-3366a5bfa63e",
   "metadata": {},
   "outputs": [],
   "source": [
    "var1 = 'aditya'"
   ]
  },
  {
   "cell_type": "code",
   "execution_count": 10,
   "id": "f9bcf741-e040-43ee-bcd3-9533eace53d8",
   "metadata": {},
   "outputs": [
    {
     "data": {
      "text/plain": [
       "str"
      ]
     },
     "execution_count": 10,
     "metadata": {},
     "output_type": "execute_result"
    }
   ],
   "source": [
    "type(var1)"
   ]
  },
  {
   "cell_type": "code",
   "execution_count": 14,
   "id": "de32b730-7fc1-4c20-8b02-8da40ec328ac",
   "metadata": {},
   "outputs": [],
   "source": [
    "var2 = '[DS,ML,Python]'"
   ]
  },
  {
   "cell_type": "code",
   "execution_count": 15,
   "id": "b505adc3-7911-4c54-b0d8-3ec3f92c0c79",
   "metadata": {},
   "outputs": [
    {
     "data": {
      "text/plain": [
       "str"
      ]
     },
     "execution_count": 15,
     "metadata": {},
     "output_type": "execute_result"
    }
   ],
   "source": [
    "type(var2)"
   ]
  },
  {
   "cell_type": "code",
   "execution_count": 16,
   "id": "42ce6d32-6c46-41ee-951b-4f89a2604b82",
   "metadata": {},
   "outputs": [],
   "source": [
    "var3 = ['DS','ML','Python']"
   ]
  },
  {
   "cell_type": "code",
   "execution_count": 17,
   "id": "8d1a693a-72c0-49db-8316-4f8a432e9e89",
   "metadata": {},
   "outputs": [
    {
     "data": {
      "text/plain": [
       "list"
      ]
     },
     "execution_count": 17,
     "metadata": {},
     "output_type": "execute_result"
    }
   ],
   "source": [
    "type(var3)"
   ]
  },
  {
   "cell_type": "code",
   "execution_count": 18,
   "id": "80f0178e-93c6-4a4d-aa2a-470ebfbe5ab6",
   "metadata": {},
   "outputs": [],
   "source": [
    "var4 = 1"
   ]
  },
  {
   "cell_type": "code",
   "execution_count": 19,
   "id": "069f88f6-20c9-4cc3-8d50-2d796e3ee657",
   "metadata": {},
   "outputs": [
    {
     "data": {
      "text/plain": [
       "int"
      ]
     },
     "execution_count": 19,
     "metadata": {},
     "output_type": "execute_result"
    }
   ],
   "source": [
    "type(var4)"
   ]
  },
  {
   "cell_type": "code",
   "execution_count": 20,
   "id": "4c8da828-a2bf-439a-b43c-412abd85e2e0",
   "metadata": {},
   "outputs": [
    {
     "data": {
      "text/plain": [
       "2.0"
      ]
     },
     "execution_count": 20,
     "metadata": {},
     "output_type": "execute_result"
    }
   ],
   "source": [
    "4/2"
   ]
  },
  {
   "cell_type": "code",
   "execution_count": 22,
   "id": "537f8403-4b80-4053-8385-ced0e485074f",
   "metadata": {},
   "outputs": [
    {
     "data": {
      "text/plain": [
       "2"
      ]
     },
     "execution_count": 22,
     "metadata": {},
     "output_type": "execute_result"
    }
   ],
   "source": [
    "6%4"
   ]
  },
  {
   "cell_type": "code",
   "execution_count": 24,
   "id": "4714f9f2-dbf9-4fc7-9200-180e33f12507",
   "metadata": {},
   "outputs": [
    {
     "data": {
      "text/plain": [
       "5"
      ]
     },
     "execution_count": 24,
     "metadata": {},
     "output_type": "execute_result"
    }
   ],
   "source": [
    "100//20"
   ]
  },
  {
   "cell_type": "code",
   "execution_count": 25,
   "id": "1277b862-d218-47e4-8c07-a17a7f818a7f",
   "metadata": {},
   "outputs": [
    {
     "data": {
      "text/plain": [
       "125"
      ]
     },
     "execution_count": 25,
     "metadata": {},
     "output_type": "execute_result"
    }
   ],
   "source": [
    "5**3"
   ]
  },
  {
   "cell_type": "code",
   "execution_count": 6,
   "id": "eb7caee3-00c8-4336-8962-160b367981e5",
   "metadata": {},
   "outputs": [
    {
     "name": "stdout",
     "output_type": "stream",
     "text": [
      "<class 'int'>\n",
      "<class 'int'>\n",
      "<class 'int'>\n",
      "<class 'int'>\n",
      "<class 'int'>\n",
      "<class 'int'>\n",
      "<class 'int'>\n",
      "<class 'str'>\n",
      "<class 'float'>\n",
      "<class 'bool'>\n"
     ]
    }
   ],
   "source": [
    "l = [ 1 , 2 , 3 , 4, 5 , 6 , 7, \"aditya\" , 36.78 , True ]\n",
    "for i in l :\n",
    "    print(type(i))\n",
    "    "
   ]
  },
  {
   "cell_type": "code",
   "execution_count": 7,
   "id": "fd3a90e9-c0e7-40d0-9deb-2344cbd919a5",
   "metadata": {},
   "outputs": [],
   "source": [
    "l = [ 1,2,3,4,5,6,7,8,9,10,11,12,13,14,15,16,17,18,19,20,21,22,23,24,25]"
   ]
  },
  {
   "cell_type": "code",
   "execution_count": 14,
   "id": "29febf3e-ebf5-4b70-a8e1-8f91209f54f6",
   "metadata": {},
   "outputs": [
    {
     "ename": "TypeError",
     "evalue": "unsupported operand type(s) for /: 'list' and 'int'",
     "output_type": "error",
     "traceback": [
      "\u001b[0;31m---------------------------------------------------------------------------\u001b[0m",
      "\u001b[0;31mTypeError\u001b[0m                                 Traceback (most recent call last)",
      "Cell \u001b[0;32mIn[14], line 2\u001b[0m\n\u001b[1;32m      1\u001b[0m \u001b[38;5;28;01mfor\u001b[39;00m i \u001b[38;5;129;01min\u001b[39;00m l:\n\u001b[0;32m----> 2\u001b[0m     \u001b[38;5;28;01mif\u001b[39;00m \u001b[43ml\u001b[49m\u001b[43m \u001b[49m\u001b[38;5;241;43m/\u001b[39;49m\u001b[43m \u001b[49m\u001b[38;5;241;43m3\u001b[39;49m :\n\u001b[1;32m      3\u001b[0m         \u001b[38;5;28mprint\u001b[39m(\u001b[38;5;124m\"\u001b[39m\u001b[38;5;124m it is divisible by 3\u001b[39m\u001b[38;5;124m\"\u001b[39m)\n\u001b[1;32m      4\u001b[0m \u001b[38;5;28;01melse\u001b[39;00m :\n",
      "\u001b[0;31mTypeError\u001b[0m: unsupported operand type(s) for /: 'list' and 'int'"
     ]
    }
   ],
   "source": [
    "for i in l:\n",
    "    if l / 3 :\n",
    "        print(\" it is divisible by 3\")\n",
    "else :\n",
    "    print (\" it is not diviible by 3\")\n",
    "        "
   ]
  },
  {
   "cell_type": "code",
   "execution_count": null,
   "id": "5740a279-ecce-4970-8c7a-332d3453e6ca",
   "metadata": {},
   "outputs": [],
   "source": [
    "mutable data type are those data type which can be changed or reassign can be done easily. example - list data type\n",
    "imutable data type are those data type which can not changed . example -  string"
   ]
  }
 ],
 "metadata": {
  "kernelspec": {
   "display_name": "Python 3 (ipykernel)",
   "language": "python",
   "name": "python3"
  },
  "language_info": {
   "codemirror_mode": {
    "name": "ipython",
    "version": 3
   },
   "file_extension": ".py",
   "mimetype": "text/x-python",
   "name": "python",
   "nbconvert_exporter": "python",
   "pygments_lexer": "ipython3",
   "version": "3.10.8"
  }
 },
 "nbformat": 4,
 "nbformat_minor": 5
}
